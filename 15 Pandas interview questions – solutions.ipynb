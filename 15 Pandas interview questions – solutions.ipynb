{
 "cells": [
  {
   "cell_type": "markdown",
   "id": "3a9e7164",
   "metadata": {},
   "source": [
    "# 15 Python/Pandas Coding Interview Questions: solutions\n"
   ]
  },
  {
   "cell_type": "markdown",
   "id": "16bace47",
   "metadata": {},
   "source": [
    "origin: KDnuggets: https://www.kdnuggets.com/2022/04/15-python-coding-interview-questions-must-know-data-science.html"
   ]
  },
  {
   "cell_type": "code",
   "execution_count": null,
   "id": "070d16f0",
   "metadata": {},
   "outputs": [],
   "source": []
  },
  {
   "cell_type": "markdown",
   "id": "8437cd19",
   "metadata": {},
   "source": [
    "## Part 1:  Aggregation, Grouping, and Ordering Data"
   ]
  },
  {
   "cell_type": "markdown",
   "id": "1669d6e9",
   "metadata": {},
   "source": [
    "### Question 1 (Box): Class Performance*\n",
    "\n",
    "Question: https://platform.stratascratch.com/coding/10310-class-performance?code_type=2"
   ]
  },
  {
   "cell_type": "code",
   "execution_count": null,
   "id": "3cec0cad",
   "metadata": {},
   "outputs": [],
   "source": [
    "box_scores['total_score'] = box_scores['assignment1'] + box_scores['assignment2'] + box_scores['assignment3']\n",
    "\n",
    "largest_difference = box_scores['total_score'].max() - box_scores['total_score'].min()\n"
   ]
  },
  {
   "cell_type": "markdown",
   "id": "e886032a",
   "metadata": {},
   "source": [
    "### Question 2 (City of San Francisco): Inspection Scores For Businesses\n",
    "\n",
    "Question: https://platform.stratascratch.com/coding/9741-inspection-scores-for-businesses?code_type=2"
   ]
  },
  {
   "cell_type": "code",
   "execution_count": null,
   "id": "cf388024",
   "metadata": {},
   "outputs": [],
   "source": [
    "#number of rows with NaN values\n",
    "a = sf_restaurant_health_violations['inspection_score'].isna().sum()\n",
    "\n",
    "#drop rows with NaN values\n",
    "df = sf_restaurant_health_violations[sf_restaurant_health_violations['inspection_score'].notna()]\n",
    "\n",
    "median_scores_sorted = df.groupby('business_name')['inspection_score'].median().sort_values(ascending=False)\n",
    "result = pd.DataFrame(median_scores)\n"
   ]
  },
  {
   "cell_type": "markdown",
   "id": "ce1fb1a6",
   "metadata": {},
   "source": [
    "### Question 3 (Microsoft): Number Of Records By Variety\n",
    "\n",
    "Question: https://platform.stratascratch.com/coding/10168-number-of-records-by-variety?code_type=2"
   ]
  },
  {
   "cell_type": "code",
   "execution_count": null,
   "id": "236670ed",
   "metadata": {},
   "outputs": [],
   "source": [
    "df = iris['variety'].value_counts().rename_axis('unique_values').to_frame('counts')\n"
   ]
  },
  {
   "cell_type": "markdown",
   "id": "985b64dc",
   "metadata": {},
   "source": [
    "## Part 2:  Joining Tables"
   ]
  },
  {
   "cell_type": "markdown",
   "id": "b435f586",
   "metadata": {},
   "source": [
    "### Question 4 (Amazon): Lowest Priced Orders*\n",
    "\n",
    "Question: https://platform.stratascratch.com/coding/9912-lowest-priced-orders?code_type=2"
   ]
  },
  {
   "cell_type": "code",
   "execution_count": null,
   "id": "d96870be",
   "metadata": {},
   "outputs": [],
   "source": [
    "cust_orders = customers.merge(orders, left_on='id', right_on='cust_id')\n",
    "result = cust_orders.groupby(['cust_id', 'first_name'], as_index=False)['total_order_cost'].min()"
   ]
  },
  {
   "cell_type": "markdown",
   "id": "93d9f079",
   "metadata": {},
   "source": [
    "### Question 5 (City of San Francisco): Income By Title and Gender\n",
    "\n",
    "https://platform.stratascratch.com/coding/10077-income-by-title-and-gender?code_type=2"
   ]
  },
  {
   "cell_type": "code",
   "execution_count": null,
   "id": "539a0111",
   "metadata": {},
   "outputs": [],
   "source": [
    "employee_bonus = sf_employee.merge(sf_bonus, left_on='id', right_on='worker_ref_id').groupby(['id'],as_index=False)['bonus'].sum()\n",
    "employee_salary_bonus = sf_employee.merge(employee_bonus, on='id')\n",
    "employee_salary_bonus['total_compensation'] = employee_salary_bonus['salary'] + employee_salary_bonus['bonus']\n",
    "employee_salary_bonus['avg_total_compensation'] = employee_salary_bonus['total_compensation'].mean()\n",
    "result = employee_salary_bonus[['employee_title','sex','total_compensation', 'avg_total_compensation']].sort_values('total_compensation', ascending=False)"
   ]
  },
  {
   "cell_type": "markdown",
   "id": "4ed0bdcd",
   "metadata": {},
   "source": [
    "### Question 6 (Microsoft): Product Transaction Count\n",
    "\n",
    "https://platform.stratascratch.com/coding/10163-product-transaction-count?code_type=2"
   ]
  },
  {
   "cell_type": "code",
   "execution_count": null,
   "id": "53929d5e",
   "metadata": {},
   "outputs": [],
   "source": [
    "inv_trans = excel_sql_inventory_data.merge(excel_sql_transaction_data, on='product_id').groupby('product_id',as_index=False).agg({'product_name':'first','transaction_id': 'count'})"
   ]
  },
  {
   "cell_type": "markdown",
   "id": "66e5ab4c",
   "metadata": {},
   "source": [
    "OR"
   ]
  },
  {
   "cell_type": "code",
   "execution_count": null,
   "id": "5925f863",
   "metadata": {},
   "outputs": [],
   "source": [
    "inv_trans = excel_sql_inventory_data.merge(excel_sql_transaction_data, on='product_id')\n",
    "inv_trans_grouping = inv_trans.groupby('product_id',as_index=False)['transaction_id'].count()\n",
    "inv_trans = inv_trans.merge(inv_trans_grouping, on='product_id', suffixes=('','_count'))\n",
    "result = inv_trans[['product_id', 'product_name', 'transaction_id_count']].drop_duplicates()"
   ]
  },
  {
   "cell_type": "markdown",
   "id": "d4aa1646",
   "metadata": {},
   "source": [
    "## Part 3: Filtering Data"
   ]
  },
  {
   "cell_type": "markdown",
   "id": "ec00176c",
   "metadata": {},
   "source": [
    "### Question 7 (Spotify): Find the Top 10 Ranked Songs in 2010*\n",
    "\n",
    "https://platform.stratascratch.com/coding/9650-find-the-top-10-ranked-songs-in-2010?code_type=2"
   ]
  },
  {
   "cell_type": "code",
   "execution_count": null,
   "id": "764e28c1",
   "metadata": {},
   "outputs": [],
   "source": [
    "\n",
    "billboard_2010 = billboard_top_100_year_end[(billboard_top_100_year_end.year == 2010) & (billboard_top_100_year_end['year_rank'].between(1,10))][['year_rank','group_name','song_name']].drop_duplicates()\n",
    "billboard_2010_sorted = billboard_2010.sort_values('year_rank')"
   ]
  },
  {
   "cell_type": "markdown",
   "id": "7defc8f6",
   "metadata": {},
   "source": [
    "### Question 8 (Airbnb): Apartments in New York City and Harlem\n",
    "\n",
    "https://platform.stratascratch.com/coding/9616-apartments-in-new-york-city-and-harlem?code_type=2"
   ]
  },
  {
   "cell_type": "code",
   "execution_count": null,
   "id": "10a1bb76",
   "metadata": {},
   "outputs": [],
   "source": [
    "result = airbnb_search_details[(airbnb_search_details['city'] == 'NYC') & (airbnb_search_details['neighbourhood'] == 'Harlem') & (airbnb_search_details['property_type'] == 'Apartment')].head(50)"
   ]
  },
  {
   "cell_type": "markdown",
   "id": "7ec7a4fa",
   "metadata": {},
   "source": [
    "### Question 9 (Salesforce): Duplicate Emails\n",
    "\n",
    "https://platform.stratascratch.com/coding/9895-duplicate-emails?code_type=2"
   ]
  },
  {
   "cell_type": "code",
   "execution_count": null,
   "id": "8c3283bb",
   "metadata": {},
   "outputs": [],
   "source": [
    "df = employee.groupby('email', as_index=False).count()\n",
    "df.rename(columns={'id': 'how_many'}, inplace=True)\n",
    "df[[\"email\", \"how_many\"]]"
   ]
  },
  {
   "cell_type": "code",
   "execution_count": null,
   "id": "ad70e7ff",
   "metadata": {},
   "outputs": [],
   "source": []
  },
  {
   "cell_type": "code",
   "execution_count": null,
   "id": "e372fc16",
   "metadata": {},
   "outputs": [],
   "source": []
  },
  {
   "cell_type": "code",
   "execution_count": null,
   "id": "aa3dea9b",
   "metadata": {},
   "outputs": [],
   "source": []
  },
  {
   "cell_type": "code",
   "execution_count": null,
   "id": "d75b844b",
   "metadata": {},
   "outputs": [],
   "source": []
  },
  {
   "cell_type": "code",
   "execution_count": null,
   "id": "5c705462",
   "metadata": {},
   "outputs": [],
   "source": []
  }
 ],
 "metadata": {
  "kernelspec": {
   "display_name": "Python 3 (ipykernel)",
   "language": "python",
   "name": "python3"
  },
  "language_info": {
   "codemirror_mode": {
    "name": "ipython",
    "version": 3
   },
   "file_extension": ".py",
   "mimetype": "text/x-python",
   "name": "python",
   "nbconvert_exporter": "python",
   "pygments_lexer": "ipython3",
   "version": "3.8.12"
  },
  "toc": {
   "base_numbering": 1,
   "nav_menu": {},
   "number_sections": true,
   "sideBar": true,
   "skip_h1_title": false,
   "title_cell": "Table of Contents",
   "title_sidebar": "Contents",
   "toc_cell": false,
   "toc_position": {},
   "toc_section_display": true,
   "toc_window_display": false
  }
 },
 "nbformat": 4,
 "nbformat_minor": 5
}
