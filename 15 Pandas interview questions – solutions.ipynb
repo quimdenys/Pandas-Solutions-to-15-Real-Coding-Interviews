{
 "cells": [
  {
   "cell_type": "markdown",
   "id": "914ed5e5",
   "metadata": {},
   "source": [
    "# 15 Python/Pandas Coding Interview Questions: solutions\n"
   ]
  },
  {
   "cell_type": "markdown",
   "id": "094aefa4",
   "metadata": {},
   "source": [
    "origin: KDnuggets: https://www.kdnuggets.com/2022/04/15-python-coding-interview-questions-must-know-data-science.html"
   ]
  },
  {
   "cell_type": "code",
   "execution_count": null,
   "id": "8b36fb54",
   "metadata": {},
   "outputs": [],
   "source": []
  },
  {
   "cell_type": "markdown",
   "id": "db4e5903",
   "metadata": {},
   "source": [
    "## Part 1:  Aggregation, Grouping, and Ordering Data"
   ]
  },
  {
   "cell_type": "markdown",
   "id": "513fcc22",
   "metadata": {},
   "source": [
    "### Question 1 (Box): Class Performance*\n",
    "\n",
    "Question: https://platform.stratascratch.com/coding/10310-class-performance?code_type=2"
   ]
  },
  {
   "cell_type": "code",
   "execution_count": null,
   "id": "e45254e7",
   "metadata": {},
   "outputs": [],
   "source": [
    "box_scores['total_score'] = box_scores['assignment1'] + box_scores['assignment2'] + box_scores['assignment3']\n",
    "\n",
    "largest_difference = box_scores['total_score'].max() - box_scores['total_score'].min()\n"
   ]
  },
  {
   "cell_type": "markdown",
   "id": "b1a1426a",
   "metadata": {},
   "source": [
    "### Question 2 (City of San Francisco): Inspection Scores For Businesses\n",
    "\n",
    "Question: https://platform.stratascratch.com/coding/9741-inspection-scores-for-businesses?code_type=2"
   ]
  },
  {
   "cell_type": "code",
   "execution_count": null,
   "id": "2c3ff167",
   "metadata": {},
   "outputs": [],
   "source": [
    "#number of rows with NaN values\n",
    "a = sf_restaurant_health_violations['inspection_score'].isna().sum()\n",
    "\n",
    "#drop rows with NaN values\n",
    "df = sf_restaurant_health_violations[sf_restaurant_health_violations['inspection_score'].notna()]\n",
    "\n",
    "median_scores_sorted = df.groupby('business_name')['inspection_score'].median().sort_values(ascending=False)\n",
    "result = pd.DataFrame(median_scores)\n"
   ]
  },
  {
   "cell_type": "markdown",
   "id": "7829131e",
   "metadata": {},
   "source": [
    "### Question 3 (Microsoft): Number Of Records By Variety\n",
    "\n",
    "Question: https://platform.stratascratch.com/coding/10168-number-of-records-by-variety?code_type=2"
   ]
  },
  {
   "cell_type": "code",
   "execution_count": null,
   "id": "6848e260",
   "metadata": {},
   "outputs": [],
   "source": [
    "df = iris['variety'].value_counts().rename_axis('unique_values').to_frame('counts')\n"
   ]
  },
  {
   "cell_type": "markdown",
   "id": "609be39f",
   "metadata": {},
   "source": [
    "## Part 2:  Joining Tables"
   ]
  },
  {
   "cell_type": "markdown",
   "id": "0bc82305",
   "metadata": {},
   "source": [
    "### Question 4 (Amazon): Lowest Priced Orders*\n",
    "\n",
    "Question: https://platform.stratascratch.com/coding/9912-lowest-priced-orders?code_type=2"
   ]
  },
  {
   "cell_type": "code",
   "execution_count": null,
   "id": "e406eee6",
   "metadata": {},
   "outputs": [],
   "source": [
    "cust_orders = customers.merge(orders, left_on='id', right_on='cust_id')\n",
    "result = cust_orders.groupby(['cust_id', 'first_name'], as_index=False)['total_order_cost'].min()"
   ]
  },
  {
   "cell_type": "code",
   "execution_count": null,
   "id": "81ce2977",
   "metadata": {},
   "outputs": [],
   "source": []
  },
  {
   "cell_type": "code",
   "execution_count": null,
   "id": "9cd828f4",
   "metadata": {},
   "outputs": [],
   "source": []
  },
  {
   "cell_type": "code",
   "execution_count": null,
   "id": "68ca0147",
   "metadata": {},
   "outputs": [],
   "source": []
  },
  {
   "cell_type": "code",
   "execution_count": null,
   "id": "36713601",
   "metadata": {},
   "outputs": [],
   "source": []
  }
 ],
 "metadata": {
  "kernelspec": {
   "display_name": "Python 3 (ipykernel)",
   "language": "python",
   "name": "python3"
  },
  "language_info": {
   "codemirror_mode": {
    "name": "ipython",
    "version": 3
   },
   "file_extension": ".py",
   "mimetype": "text/x-python",
   "name": "python",
   "nbconvert_exporter": "python",
   "pygments_lexer": "ipython3",
   "version": "3.8.12"
  },
  "toc": {
   "base_numbering": 1,
   "nav_menu": {},
   "number_sections": true,
   "sideBar": true,
   "skip_h1_title": false,
   "title_cell": "Table of Contents",
   "title_sidebar": "Contents",
   "toc_cell": false,
   "toc_position": {},
   "toc_section_display": true,
   "toc_window_display": false
  }
 },
 "nbformat": 4,
 "nbformat_minor": 5
}
