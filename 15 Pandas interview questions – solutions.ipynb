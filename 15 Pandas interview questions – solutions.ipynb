{
 "cells": [
  {
   "cell_type": "markdown",
   "id": "11a88871",
   "metadata": {},
   "source": [
    "# 15 Python/Pandas Coding Interview Questions: solutions\n"
   ]
  },
  {
   "cell_type": "markdown",
   "id": "b5e7e52d",
   "metadata": {},
   "source": [
    "origin: KDnuggets: https://www.kdnuggets.com/2022/04/15-python-coding-interview-questions-must-know-data-science.html"
   ]
  },
  {
   "cell_type": "code",
   "execution_count": null,
   "id": "7d2e1ca0",
   "metadata": {},
   "outputs": [],
   "source": []
  },
  {
   "cell_type": "markdown",
   "id": "7a7ba99c",
   "metadata": {},
   "source": [
    "## Part 1:  Aggregation, Grouping, and Ordering Data"
   ]
  },
  {
   "cell_type": "markdown",
   "id": "39633889",
   "metadata": {},
   "source": [
    "### Question 1 (Box): Class Performance*\n",
    "\n",
    "Question: https://platform.stratascratch.com/coding/10310-class-performance?code_type=2"
   ]
  },
  {
   "cell_type": "code",
   "execution_count": null,
   "id": "8328aaac",
   "metadata": {},
   "outputs": [],
   "source": [
    "import pandas as pd\n",
    "\n",
    "box_scores['total_score'] = box_scores['assignment1'] + box_scores['assignment2'] + box_scores['assignment3']\n",
    "largest_difference = box_scores['total_score'].max() - box_scores['total_score'].min()\n"
   ]
  },
  {
   "cell_type": "markdown",
   "id": "34b1fe54",
   "metadata": {},
   "source": [
    "### Question 2 (City of San Francisco): Inspection Scores For Businesses\n",
    "\n",
    "Question: https://platform.stratascratch.com/coding/9741-inspection-scores-for-businesses?code_type=2"
   ]
  },
  {
   "cell_type": "code",
   "execution_count": null,
   "id": "029a31d7",
   "metadata": {},
   "outputs": [],
   "source": [
    "import pandas as pd\n",
    "\n",
    "#number of rows with NaN values\n",
    "a = sf_restaurant_health_violations['inspection_score'].isna().sum()\n",
    "\n",
    "#drop rows with NaN values\n",
    "df = sf_restaurant_health_violations[sf_restaurant_health_violations['inspection_score'].notna()]\n",
    "\n",
    "median_scores_sorted = df.groupby('business_name')['inspection_score'].median().sort_values(ascending=False)\n",
    "result = pd.DataFrame(median_scores)\n"
   ]
  },
  {
   "cell_type": "markdown",
   "id": "12eb879a",
   "metadata": {},
   "source": [
    "### Question 3 (Microsoft): Number Of Records By Variety\n",
    "\n",
    "Question: https://platform.stratascratch.com/coding/10168-number-of-records-by-variety?code_type=2"
   ]
  },
  {
   "cell_type": "code",
   "execution_count": null,
   "id": "969135d3",
   "metadata": {},
   "outputs": [],
   "source": [
    "import pandas as pd\n",
    "\n",
    "df = iris['variety'].value_counts().rename_axis('unique_values').to_frame('counts')\n"
   ]
  },
  {
   "cell_type": "markdown",
   "id": "d10a0d25",
   "metadata": {},
   "source": [
    "## Part 2:  Joining Tables"
   ]
  },
  {
   "cell_type": "markdown",
   "id": "f3dcf953",
   "metadata": {},
   "source": [
    "### Question 4 (Amazon): Lowest Priced Orders*\n",
    "\n",
    "Question: https://platform.stratascratch.com/coding/9912-lowest-priced-orders?code_type=2"
   ]
  },
  {
   "cell_type": "code",
   "execution_count": null,
   "id": "90d86385",
   "metadata": {},
   "outputs": [],
   "source": [
    "import pandas as pd\n",
    "\n",
    "cust_orders = customers.merge(orders, left_on='id', right_on='cust_id')\n",
    "result = cust_orders.groupby(['cust_id', 'first_name'], as_index=False)['total_order_cost'].min()"
   ]
  },
  {
   "cell_type": "markdown",
   "id": "d78df6a5",
   "metadata": {},
   "source": [
    "### Question 5 (City of San Francisco): Income By Title and Gender\n",
    "\n",
    "https://platform.stratascratch.com/coding/10077-income-by-title-and-gender?code_type=2"
   ]
  },
  {
   "cell_type": "code",
   "execution_count": null,
   "id": "353bd44d",
   "metadata": {},
   "outputs": [],
   "source": [
    "import pandas as pd\n",
    "\n",
    "employee_bonus = sf_employee.merge(sf_bonus, left_on='id', right_on='worker_ref_id').groupby(['id'],as_index=False)['bonus'].sum()\n",
    "employee_salary_bonus = sf_employee.merge(employee_bonus, on='id')\n",
    "employee_salary_bonus['total_compensation'] = employee_salary_bonus['salary'] + employee_salary_bonus['bonus']\n",
    "employee_salary_bonus['avg_total_compensation'] = employee_salary_bonus['total_compensation'].mean()\n",
    "result = employee_salary_bonus[['employee_title','sex','total_compensation', 'avg_total_compensation']].sort_values('total_compensation', ascending=False)"
   ]
  },
  {
   "cell_type": "markdown",
   "id": "a7a57c60",
   "metadata": {},
   "source": [
    "### Question 6 (Microsoft): Product Transaction Count\n",
    "\n",
    "https://platform.stratascratch.com/coding/10163-product-transaction-count?code_type=2"
   ]
  },
  {
   "cell_type": "code",
   "execution_count": null,
   "id": "0b37426e",
   "metadata": {},
   "outputs": [],
   "source": [
    "import pandas as pd\n",
    "\n",
    "inv_trans = excel_sql_inventory_data.merge(excel_sql_transaction_data, on='product_id').groupby('product_id',as_index=False).agg({'product_name':'first','transaction_id': 'count'})"
   ]
  },
  {
   "cell_type": "markdown",
   "id": "448deb15",
   "metadata": {},
   "source": [
    "OR"
   ]
  },
  {
   "cell_type": "code",
   "execution_count": null,
   "id": "749b73af",
   "metadata": {},
   "outputs": [],
   "source": [
    "import pandas as pd\n",
    "\n",
    "inv_trans = excel_sql_inventory_data.merge(excel_sql_transaction_data, on='product_id')\n",
    "inv_trans_grouping = inv_trans.groupby('product_id',as_index=False)['transaction_id'].count()\n",
    "inv_trans = inv_trans.merge(inv_trans_grouping, on='product_id', suffixes=('','_count'))\n",
    "result = inv_trans[['product_id', 'product_name', 'transaction_id_count']].drop_duplicates()"
   ]
  },
  {
   "cell_type": "markdown",
   "id": "824b7c78",
   "metadata": {},
   "source": [
    "## Part 3: Filtering Data"
   ]
  },
  {
   "cell_type": "markdown",
   "id": "d2cb3532",
   "metadata": {},
   "source": [
    "### Question 7 (Spotify): Find the Top 10 Ranked Songs in 2010*\n",
    "\n",
    "https://platform.stratascratch.com/coding/9650-find-the-top-10-ranked-songs-in-2010?code_type=2"
   ]
  },
  {
   "cell_type": "code",
   "execution_count": null,
   "id": "5cc5373e",
   "metadata": {},
   "outputs": [],
   "source": [
    "import pandas as pd\n",
    "\n",
    "billboard_2010 = billboard_top_100_year_end[(billboard_top_100_year_end.year == 2010) & (billboard_top_100_year_end['year_rank'].between(1,10))][['year_rank','group_name','song_name']].drop_duplicates()\n",
    "billboard_2010_sorted = billboard_2010.sort_values('year_rank')"
   ]
  },
  {
   "cell_type": "markdown",
   "id": "4835d616",
   "metadata": {},
   "source": [
    "### Question 8 (Airbnb): Apartments in New York City and Harlem\n",
    "\n",
    "https://platform.stratascratch.com/coding/9616-apartments-in-new-york-city-and-harlem?code_type=2"
   ]
  },
  {
   "cell_type": "code",
   "execution_count": null,
   "id": "4c197ba3",
   "metadata": {},
   "outputs": [],
   "source": [
    "import pandas as pd\n",
    "\n",
    "result = airbnb_search_details[(airbnb_search_details['city'] == 'NYC') & (airbnb_search_details['neighbourhood'] == 'Harlem') & (airbnb_search_details['property_type'] == 'Apartment')].head(50)"
   ]
  },
  {
   "cell_type": "markdown",
   "id": "40ae4b8c",
   "metadata": {},
   "source": [
    "### Question 9 (Salesforce): Duplicate Emails\n",
    "\n",
    "https://platform.stratascratch.com/coding/9895-duplicate-emails?code_type=2"
   ]
  },
  {
   "cell_type": "code",
   "execution_count": null,
   "id": "f58d2b35",
   "metadata": {},
   "outputs": [],
   "source": [
    "import pandas as pd\n",
    "\n",
    "df = employee.groupby('email', as_index=False).count()\n",
    "df.rename(columns={'id': 'how_many'}, inplace=True)\n",
    "df[[\"email\", \"how_many\"]]"
   ]
  },
  {
   "cell_type": "markdown",
   "id": "4aeb417a",
   "metadata": {},
   "source": [
    "## Part 4: Text Manipulation"
   ]
  },
  {
   "cell_type": "markdown",
   "id": "53420c6d",
   "metadata": {},
   "source": [
    "### Question 10 (Airbnb): Reviews Bins on Reviews Number*\n",
    "\n",
    "https://platform.stratascratch.com/coding/9628-reviews-bins-on-reviews-number?code_type=2"
   ]
  },
  {
   "cell_type": "code",
   "execution_count": null,
   "id": "c30afbc1",
   "metadata": {},
   "outputs": [],
   "source": [
    "import pandas as pd\n",
    "import numpy as np\n",
    "\n",
    "num_reviews = airbnb_search_details['number_of_reviews']\n",
    "condlist = [num_reviews == 0, num_reviews.between(1,5),num_reviews.between(5,15),num_reviews.between(15,40),num_reviews>40]\n",
    "choicelist = ['NO','FEW','SOME','MANY','A LOT']\n",
    "airbnb_search_details['quantity_reviews'] = np.select(condlist, choicelist)\n",
    "result = airbnb_search_details[['quantity_reviews','price']]"
   ]
  },
  {
   "cell_type": "markdown",
   "id": "188c2a5e",
   "metadata": {},
   "source": [
    "### Question 11 (City of San Francisco): Business Name Lengths\n",
    "\n",
    "https://platform.stratascratch.com/coding/10131-business-name-lengths?code_type=2"
   ]
  },
  {
   "cell_type": "code",
   "execution_count": null,
   "id": "0108e954",
   "metadata": {},
   "outputs": [],
   "source": [
    "import pandas as pd\n",
    "import re\n",
    "\n",
    "df = sf_restaurant_health_violations.drop_duplicates('business_name')\n",
    "df['business_name_clean'] = df['business_name'].apply(lambda x: re.sub(\"[!@#$%&*;:,./<>?\\|`=_+]\", \" \", x))\n",
    "df['number'] = df['business_name_clean'].apply(lambda x: len(x.split()))\n",
    "df_final = df[['business_name','number']]"
   ]
  },
  {
   "cell_type": "markdown",
   "id": "163b4979",
   "metadata": {},
   "source": [
    "### Question 12 (Amazon): Positions Of Letter 'a'\n",
    "\n",
    "https://platform.stratascratch.com/coding/9829-positions-of-letter-a?code_type=2"
   ]
  },
  {
   "cell_type": "code",
   "execution_count": null,
   "id": "13016b9f",
   "metadata": {},
   "outputs": [],
   "source": [
    "import pandas as pd\n",
    "\n",
    "worker2 = worker[worker['first_name'] == 'Amitah']\n",
    "position = worker2['first_name'].apply(lambda x: x.find('a') + 1)\n"
   ]
  },
  {
   "cell_type": "markdown",
   "id": "e83c18fe",
   "metadata": {},
   "source": [
    "## Part 5: Datetime Manipulation"
   ]
  },
  {
   "cell_type": "markdown",
   "id": "2a32cf86",
   "metadata": {},
   "source": [
    "### Question 13 (Meta): Number of Comments Per User in Past 30 days*\n",
    "\n",
    "https://platform.stratascratch.com/coding/2004-number-of-comments-per-user-in-past-30-days?code_type=2"
   ]
  },
  {
   "cell_type": "code",
   "execution_count": null,
   "id": "ec66acce",
   "metadata": {},
   "outputs": [],
   "source": [
    "import pandas as pd\n",
    "from datetime import timedelta\n",
    "\n",
    "result = fb_comments_count[(fb_comments_count['created_at'] >= pd.to_datetime('2020-02-10') - timedelta(days=30)) & (\n",
    "fb_comments_count['created_at'] <= pd.to_datetime('2020-02-10'))].groupby('user_id')[\n",
    "'number_of_comments'].sum().reset_index()"
   ]
  },
  {
   "cell_type": "markdown",
   "id": "4efc01e4",
   "metadata": {},
   "source": [
    "### Question 14 (Amazon): Finding User Purchases\n",
    "\n",
    "https://platform.stratascratch.com/coding/10322-finding-user-purchases?code_type=2"
   ]
  },
  {
   "cell_type": "code",
   "execution_count": null,
   "id": "f41a5cc9",
   "metadata": {},
   "outputs": [],
   "source": [
    "import pandas as pd\n",
    "import numpy as np\n",
    "import datetime\n",
    "\n",
    "amazon_transactions[\"created_at\"] = amazon_transactions[\"created_at\"].dt.strftime('%m-%d-%Y')\n",
    "df = amazon_transactions.sort_values(by=['user_id', 'created_at'], ascending=[True, True])\n",
    "df['prev_value'] = df.groupby('user_id')['created_at'].shift()\n",
    "df['days'] = (pd.to_datetime(df['created_at']) - pd.to_datetime(df['prev_value'])).dt.days\n",
    "result = df[df['days'] <= 7]['user_id'].unique()"
   ]
  },
  {
   "cell_type": "markdown",
   "id": "094a32aa",
   "metadata": {},
   "source": [
    "### Question 15 (Meta): Customer Revenue In March \n",
    "\n",
    "https://platform.stratascratch.com/coding/9782-customer-revenue-in-march?code_type=2"
   ]
  },
  {
   "cell_type": "code",
   "execution_count": null,
   "id": "888e78a2",
   "metadata": {},
   "outputs": [],
   "source": [
    "import pandas as pd\n",
    "\n",
    "df = orders.copy()\n",
    "df = df[df['order_date'].dt.month == 3]\n",
    "df = df[['cust_id', 'total_order_cost']].groupby('cust_id', as_index = False).sum()\n",
    "df = df.sort_values('total_order_cost', ascending = False)"
   ]
  },
  {
   "cell_type": "code",
   "execution_count": null,
   "id": "64797ef9",
   "metadata": {},
   "outputs": [],
   "source": []
  },
  {
   "cell_type": "code",
   "execution_count": null,
   "id": "6bea44a0",
   "metadata": {},
   "outputs": [],
   "source": []
  },
  {
   "cell_type": "code",
   "execution_count": null,
   "id": "4d9bc0ef",
   "metadata": {},
   "outputs": [],
   "source": []
  }
 ],
 "metadata": {
  "kernelspec": {
   "display_name": "Python 3 (ipykernel)",
   "language": "python",
   "name": "python3"
  },
  "language_info": {
   "codemirror_mode": {
    "name": "ipython",
    "version": 3
   },
   "file_extension": ".py",
   "mimetype": "text/x-python",
   "name": "python",
   "nbconvert_exporter": "python",
   "pygments_lexer": "ipython3",
   "version": "3.8.12"
  },
  "toc": {
   "base_numbering": 1,
   "nav_menu": {},
   "number_sections": true,
   "sideBar": true,
   "skip_h1_title": false,
   "title_cell": "Table of Contents",
   "title_sidebar": "Contents",
   "toc_cell": false,
   "toc_position": {},
   "toc_section_display": true,
   "toc_window_display": false
  }
 },
 "nbformat": 4,
 "nbformat_minor": 5
}
